{
  "nbformat": 4,
  "nbformat_minor": 0,
  "metadata": {
    "colab": {
      "name": "wine_Technique comparison result",
      "provenance": [],
      "authorship_tag": "ABX9TyOOZSRcrMQ9QQwW5AJmDUri",
      "include_colab_link": true
    },
    "kernelspec": {
      "name": "python3",
      "display_name": "Python 3"
    },
    "language_info": {
      "name": "python"
    }
  },
  "cells": [
    {
      "cell_type": "markdown",
      "metadata": {
        "id": "view-in-github",
        "colab_type": "text"
      },
      "source": [
        "<a href=\"https://colab.research.google.com/github/chosangwoong/AI-sysetem/blob/main/wine_Technique_comparison_result.ipynb\" target=\"_parent\"><img src=\"https://colab.research.google.com/assets/colab-badge.svg\" alt=\"Open In Colab\"/></a>"
      ]
    },
    {
      "cell_type": "code",
      "metadata": {
        "colab": {
          "base_uri": "https://localhost:8080/"
        },
        "id": "oaZMChD8UO_L",
        "outputId": "56849ec7-441a-4c51-9b21-a3a52fbd61d0"
      },
      "source": [
        "from sklearn.datasets import load_wine\n",
        "from sklearn.model_selection import train_test_split\n",
        "from sklearn.tree import DecisionTreeClassifier\n",
        "from sklearn.ensemble import RandomForestClassifier\n",
        "from sklearn import svm\n",
        "from sklearn.linear_model import SGDClassifier\n",
        "from sklearn.linear_model import LogisticRegression\n",
        "from sklearn.metrics import classification_report\n",
        "from sklearn.metrics import recall_score\n",
        "\n",
        "# 데이터 준비\n",
        "wines = load_wine()\n",
        "wines_data = wines.data\n",
        "wines_label = wines.target\n",
        "\n",
        "# train 데이터, test 데이터 분리\n",
        "x_train, x_test, y_train, y_test = train_test_split(wines_data, \n",
        "                                                    wines_label, \n",
        "                                                    test_size=0.2, \n",
        "                                                    random_state=7)\n",
        "\n",
        "# 모델 학습 및 예측\n",
        "# Decision Tree\n",
        "decision_tree = DecisionTreeClassifier(random_state=32)\n",
        "decision_tree.fit(x_train, y_train)\n",
        "decision_tree_y_pred = decision_tree.predict(x_test)\n",
        "print(classification_report(y_test, decision_tree_y_pred))\n",
        "\n",
        "# RandomForest\n",
        "random_forest = RandomForestClassifier(random_state=32)\n",
        "random_forest.fit(x_train, y_train)\n",
        "random_forest_y_pred = random_forest.predict(x_test)\n",
        "print(classification_report(y_test, random_forest_y_pred))\n",
        "\n",
        "# SVM\n",
        "svm_model = svm.SVC()\n",
        "svm_model.fit(x_train, y_train)\n",
        "svm_y_pred = svm_model.predict(x_test)\n",
        "print(classification_report(y_test, svm_y_pred))\n",
        "\n"
      ],
      "execution_count": 13,
      "outputs": [
        {
          "output_type": "stream",
          "text": [
            "              precision    recall  f1-score   support\n",
            "\n",
            "           0       1.00      1.00      1.00         7\n",
            "           1       0.89      1.00      0.94        17\n",
            "           2       1.00      0.83      0.91        12\n",
            "\n",
            "    accuracy                           0.94        36\n",
            "   macro avg       0.96      0.94      0.95        36\n",
            "weighted avg       0.95      0.94      0.94        36\n",
            "\n",
            "              precision    recall  f1-score   support\n",
            "\n",
            "           0       1.00      1.00      1.00         7\n",
            "           1       1.00      1.00      1.00        17\n",
            "           2       1.00      1.00      1.00        12\n",
            "\n",
            "    accuracy                           1.00        36\n",
            "   macro avg       1.00      1.00      1.00        36\n",
            "weighted avg       1.00      1.00      1.00        36\n",
            "\n",
            "              precision    recall  f1-score   support\n",
            "\n",
            "           0       0.86      0.86      0.86         7\n",
            "           1       0.58      0.88      0.70        17\n",
            "           2       0.33      0.08      0.13        12\n",
            "\n",
            "    accuracy                           0.61        36\n",
            "   macro avg       0.59      0.61      0.56        36\n",
            "weighted avg       0.55      0.61      0.54        36\n",
            "\n"
          ],
          "name": "stdout"
        }
      ]
    },
    {
      "cell_type": "code",
      "metadata": {
        "colab": {
          "base_uri": "https://localhost:8080/"
        },
        "id": "7w35cTAKUWLb",
        "outputId": "7277e2dc-c8d5-4132-f196-0c833d6c78b9"
      },
      "source": [
        "  print('Decision Tree       : {}'.format(recall_score(y_test, decision_tree_y_pred, average='weighted')))\n",
        "  print('Random Forest       : {}'.format(recall_score(y_test, random_forest_y_pred, average='weighted')))\n",
        "  print('SVM                 : {}'.format(recall_score(y_test, svm_y_pred, average='weighted')))"
      ],
      "execution_count": 14,
      "outputs": [
        {
          "output_type": "stream",
          "text": [
            "Decision Tree       : 0.9444444444444444\n",
            "Random Forest       : 1.0\n",
            "SVM                 : 0.6111111111111112\n"
          ],
          "name": "stdout"
        }
      ]
    }
  ]
}