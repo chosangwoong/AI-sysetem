{
  "nbformat": 4,
  "nbformat_minor": 0,
  "metadata": {
    "colab": {
      "name": "와인 등급 데이터셋",
      "provenance": [],
      "collapsed_sections": [],
      "authorship_tag": "ABX9TyMLj7R5zxfhQVintT8hhlv9",
      "include_colab_link": true
    },
    "kernelspec": {
      "name": "python3",
      "display_name": "Python 3"
    },
    "language_info": {
      "name": "python"
    }
  },
  "cells": [
    {
      "cell_type": "markdown",
      "metadata": {
        "id": "view-in-github",
        "colab_type": "text"
      },
      "source": [
        "<a href=\"https://colab.research.google.com/github/chosangwoong/AI-sysetem/blob/main/wind_set.ipynb\" target=\"_parent\"><img src=\"https://colab.research.google.com/assets/colab-badge.svg\" alt=\"Open In Colab\"/></a>"
      ]
    },
    {
      "cell_type": "code",
      "metadata": {
        "id": "ryFzTqj2NzTG"
      },
      "source": [
        "from sklearn import model_selection\n",
        "from sklearn import metrics"
      ],
      "execution_count": null,
      "outputs": []
    },
    {
      "cell_type": "code",
      "metadata": {
        "id": "cdOjUEeKN9zz"
      },
      "source": [
        "import numpy as np\n",
        "import pandas as pd\n",
        "from sklearn import datasets"
      ],
      "execution_count": null,
      "outputs": []
    },
    {
      "cell_type": "code",
      "metadata": {
        "colab": {
          "base_uri": "https://localhost:8080/"
        },
        "id": "bEAtvrbSOBAC",
        "outputId": "e7a54ce8-6ebf-40db-b9f3-f69a28902599"
      },
      "source": [
        "dataset = datasets.load_wine()\n",
        "print(dataset.DESCR)\n",
        "\n",
        "print(dataset['feature_names']) #['alcohol', 'malic_acid', 'ash', 'alcalinity_of_ash', 'magnesium', 'total_phenols', 'flavanoids', 'nonflavanoid_phenols', 'proanthocyanins', 'color_intensity', 'hue', 'od280/od315_of_diluted_wines', 'proline']\n",
        "print(dataset['target_names']) #['class_0' 'class_1' 'class_2']\n",
        "\n",
        "df = pd.DataFrame(dataset.data, columns=dataset.feature_names)\n",
        "df['target'] = dataset.target\n",
        "print(df.head())\n",
        "\n",
        "print(df.tail())\n",
        "\n",
        "print(df.shape) \n",
        "print(df.describe())\n",
        "\n",
        "print(df.iloc[:,-1].value_counts())\n",
        "\n",
        "x_data = dataset.data\n",
        "y_data = dataset.target\n",
        "print(x_data.shape)\n",
        "print(y_data.shape) \n",
        "\n",
        "from sklearn import datasets\n",
        "dataset = datasets.load_wine()\n",
        "x_data = dataset.data\n",
        "y_data = dataset.target"
      ],
      "execution_count": null,
      "outputs": [
        {
          "output_type": "stream",
          "text": [
            ".. _wine_dataset:\n",
            "\n",
            "Wine recognition dataset\n",
            "------------------------\n",
            "\n",
            "**Data Set Characteristics:**\n",
            "\n",
            "    :Number of Instances: 178 (50 in each of three classes)\n",
            "    :Number of Attributes: 13 numeric, predictive attributes and the class\n",
            "    :Attribute Information:\n",
            " \t\t- Alcohol\n",
            " \t\t- Malic acid\n",
            " \t\t- Ash\n",
            "\t\t- Alcalinity of ash  \n",
            " \t\t- Magnesium\n",
            "\t\t- Total phenols\n",
            " \t\t- Flavanoids\n",
            " \t\t- Nonflavanoid phenols\n",
            " \t\t- Proanthocyanins\n",
            "\t\t- Color intensity\n",
            " \t\t- Hue\n",
            " \t\t- OD280/OD315 of diluted wines\n",
            " \t\t- Proline\n",
            "\n",
            "    - class:\n",
            "            - class_0\n",
            "            - class_1\n",
            "            - class_2\n",
            "\t\t\n",
            "    :Summary Statistics:\n",
            "    \n",
            "    ============================= ==== ===== ======= =====\n",
            "                                   Min   Max   Mean     SD\n",
            "    ============================= ==== ===== ======= =====\n",
            "    Alcohol:                      11.0  14.8    13.0   0.8\n",
            "    Malic Acid:                   0.74  5.80    2.34  1.12\n",
            "    Ash:                          1.36  3.23    2.36  0.27\n",
            "    Alcalinity of Ash:            10.6  30.0    19.5   3.3\n",
            "    Magnesium:                    70.0 162.0    99.7  14.3\n",
            "    Total Phenols:                0.98  3.88    2.29  0.63\n",
            "    Flavanoids:                   0.34  5.08    2.03  1.00\n",
            "    Nonflavanoid Phenols:         0.13  0.66    0.36  0.12\n",
            "    Proanthocyanins:              0.41  3.58    1.59  0.57\n",
            "    Colour Intensity:              1.3  13.0     5.1   2.3\n",
            "    Hue:                          0.48  1.71    0.96  0.23\n",
            "    OD280/OD315 of diluted wines: 1.27  4.00    2.61  0.71\n",
            "    Proline:                       278  1680     746   315\n",
            "    ============================= ==== ===== ======= =====\n",
            "\n",
            "    :Missing Attribute Values: None\n",
            "    :Class Distribution: class_0 (59), class_1 (71), class_2 (48)\n",
            "    :Creator: R.A. Fisher\n",
            "    :Donor: Michael Marshall (MARSHALL%PLU@io.arc.nasa.gov)\n",
            "    :Date: July, 1988\n",
            "\n",
            "This is a copy of UCI ML Wine recognition datasets.\n",
            "https://archive.ics.uci.edu/ml/machine-learning-databases/wine/wine.data\n",
            "\n",
            "The data is the results of a chemical analysis of wines grown in the same\n",
            "region in Italy by three different cultivators. There are thirteen different\n",
            "measurements taken for different constituents found in the three types of\n",
            "wine.\n",
            "\n",
            "Original Owners: \n",
            "\n",
            "Forina, M. et al, PARVUS - \n",
            "An Extendible Package for Data Exploration, Classification and Correlation. \n",
            "Institute of Pharmaceutical and Food Analysis and Technologies,\n",
            "Via Brigata Salerno, 16147 Genoa, Italy.\n",
            "\n",
            "Citation:\n",
            "\n",
            "Lichman, M. (2013). UCI Machine Learning Repository\n",
            "[https://archive.ics.uci.edu/ml]. Irvine, CA: University of California,\n",
            "School of Information and Computer Science. \n",
            "\n",
            ".. topic:: References\n",
            "\n",
            "  (1) S. Aeberhard, D. Coomans and O. de Vel, \n",
            "  Comparison of Classifiers in High Dimensional Settings, \n",
            "  Tech. Rep. no. 92-02, (1992), Dept. of Computer Science and Dept. of  \n",
            "  Mathematics and Statistics, James Cook University of North Queensland. \n",
            "  (Also submitted to Technometrics). \n",
            "\n",
            "  The data was used with many others for comparing various \n",
            "  classifiers. The classes are separable, though only RDA \n",
            "  has achieved 100% correct classification. \n",
            "  (RDA : 100%, QDA 99.4%, LDA 98.9%, 1NN 96.1% (z-transformed data)) \n",
            "  (All results using the leave-one-out technique) \n",
            "\n",
            "  (2) S. Aeberhard, D. Coomans and O. de Vel, \n",
            "  \"THE CLASSIFICATION PERFORMANCE OF RDA\" \n",
            "  Tech. Rep. no. 92-01, (1992), Dept. of Computer Science and Dept. of \n",
            "  Mathematics and Statistics, James Cook University of North Queensland. \n",
            "  (Also submitted to Journal of Chemometrics).\n",
            "\n",
            "['alcohol', 'malic_acid', 'ash', 'alcalinity_of_ash', 'magnesium', 'total_phenols', 'flavanoids', 'nonflavanoid_phenols', 'proanthocyanins', 'color_intensity', 'hue', 'od280/od315_of_diluted_wines', 'proline']\n",
            "['class_0' 'class_1' 'class_2']\n",
            "   alcohol  malic_acid   ash  ...  od280/od315_of_diluted_wines  proline  target\n",
            "0    14.23        1.71  2.43  ...                          3.92   1065.0       0\n",
            "1    13.20        1.78  2.14  ...                          3.40   1050.0       0\n",
            "2    13.16        2.36  2.67  ...                          3.17   1185.0       0\n",
            "3    14.37        1.95  2.50  ...                          3.45   1480.0       0\n",
            "4    13.24        2.59  2.87  ...                          2.93    735.0       0\n",
            "\n",
            "[5 rows x 14 columns]\n",
            "     alcohol  malic_acid   ash  ...  od280/od315_of_diluted_wines  proline  target\n",
            "173    13.71        5.65  2.45  ...                          1.74    740.0       2\n",
            "174    13.40        3.91  2.48  ...                          1.56    750.0       2\n",
            "175    13.27        4.28  2.26  ...                          1.56    835.0       2\n",
            "176    13.17        2.59  2.37  ...                          1.62    840.0       2\n",
            "177    14.13        4.10  2.74  ...                          1.60    560.0       2\n",
            "\n",
            "[5 rows x 14 columns]\n",
            "(178, 14)\n",
            "          alcohol  malic_acid  ...      proline      target\n",
            "count  178.000000  178.000000  ...   178.000000  178.000000\n",
            "mean    13.000618    2.336348  ...   746.893258    0.938202\n",
            "std      0.811827    1.117146  ...   314.907474    0.775035\n",
            "min     11.030000    0.740000  ...   278.000000    0.000000\n",
            "25%     12.362500    1.602500  ...   500.500000    0.000000\n",
            "50%     13.050000    1.865000  ...   673.500000    1.000000\n",
            "75%     13.677500    3.082500  ...   985.000000    2.000000\n",
            "max     14.830000    5.800000  ...  1680.000000    2.000000\n",
            "\n",
            "[8 rows x 14 columns]\n",
            "1    71\n",
            "0    59\n",
            "2    48\n",
            "Name: target, dtype: int64\n",
            "(178, 13)\n",
            "(178,)\n"
          ],
          "name": "stdout"
        }
      ]
    },
    {
      "cell_type": "code",
      "metadata": {
        "id": "TCYfUQYnPRRu"
      },
      "source": [
        ""
      ],
      "execution_count": null,
      "outputs": []
    },
    {
      "cell_type": "code",
      "metadata": {
        "id": "019xk_UYQNZr"
      },
      "source": [
        ""
      ],
      "execution_count": null,
      "outputs": []
    }
  ]
}