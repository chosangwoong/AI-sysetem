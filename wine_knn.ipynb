{
  "nbformat": 4,
  "nbformat_minor": 0,
  "metadata": {
    "colab": {
      "name": "wine_knn",
      "provenance": [],
      "collapsed_sections": [],
      "authorship_tag": "ABX9TyOHTdhYjv3A13HYSRFuNSZo",
      "include_colab_link": true
    },
    "kernelspec": {
      "name": "python3",
      "display_name": "Python 3"
    },
    "language_info": {
      "name": "python"
    },
    "widgets": {
      "application/vnd.jupyter.widget-state+json": {
        "fdb1783c2b2b484886732cebca2277bd": {
          "model_module": "@jupyter-widgets/controls",
          "model_name": "HBoxModel",
          "state": {
            "_view_name": "HBoxView",
            "_dom_classes": [],
            "_model_name": "HBoxModel",
            "_view_module": "@jupyter-widgets/controls",
            "_model_module_version": "1.5.0",
            "_view_count": null,
            "_view_module_version": "1.5.0",
            "box_style": "",
            "layout": "IPY_MODEL_4e70715b76ef46f4ac1fa164cb22b640",
            "_model_module": "@jupyter-widgets/controls",
            "children": [
              "IPY_MODEL_172f9ef0880e4d5c9bc25b26099686c6",
              "IPY_MODEL_4539e2dbba41418b884eb1b4d91f638c"
            ]
          }
        },
        "4e70715b76ef46f4ac1fa164cb22b640": {
          "model_module": "@jupyter-widgets/base",
          "model_name": "LayoutModel",
          "state": {
            "_view_name": "LayoutView",
            "grid_template_rows": null,
            "right": null,
            "justify_content": null,
            "_view_module": "@jupyter-widgets/base",
            "overflow": null,
            "_model_module_version": "1.2.0",
            "_view_count": null,
            "flex_flow": null,
            "width": null,
            "min_width": null,
            "border": null,
            "align_items": null,
            "bottom": null,
            "_model_module": "@jupyter-widgets/base",
            "top": null,
            "grid_column": null,
            "overflow_y": null,
            "overflow_x": null,
            "grid_auto_flow": null,
            "grid_area": null,
            "grid_template_columns": null,
            "flex": null,
            "_model_name": "LayoutModel",
            "justify_items": null,
            "grid_row": null,
            "max_height": null,
            "align_content": null,
            "visibility": null,
            "align_self": null,
            "height": null,
            "min_height": null,
            "padding": null,
            "grid_auto_rows": null,
            "grid_gap": null,
            "max_width": null,
            "order": null,
            "_view_module_version": "1.2.0",
            "grid_template_areas": null,
            "object_position": null,
            "object_fit": null,
            "grid_auto_columns": null,
            "margin": null,
            "display": null,
            "left": null
          }
        },
        "172f9ef0880e4d5c9bc25b26099686c6": {
          "model_module": "@jupyter-widgets/controls",
          "model_name": "FloatProgressModel",
          "state": {
            "_view_name": "ProgressView",
            "style": "IPY_MODEL_5672df587c1a481398d64cddfb22b6ce",
            "_dom_classes": [],
            "description": "100%",
            "_model_name": "FloatProgressModel",
            "bar_style": "success",
            "max": 49,
            "_view_module": "@jupyter-widgets/controls",
            "_model_module_version": "1.5.0",
            "value": 49,
            "_view_count": null,
            "_view_module_version": "1.5.0",
            "orientation": "horizontal",
            "min": 0,
            "description_tooltip": null,
            "_model_module": "@jupyter-widgets/controls",
            "layout": "IPY_MODEL_1a4508af5ace4ec7a0db2216a6c986a2"
          }
        },
        "4539e2dbba41418b884eb1b4d91f638c": {
          "model_module": "@jupyter-widgets/controls",
          "model_name": "HTMLModel",
          "state": {
            "_view_name": "HTMLView",
            "style": "IPY_MODEL_4ea86e69ee6a442b8f58f04943b0294a",
            "_dom_classes": [],
            "description": "",
            "_model_name": "HTMLModel",
            "placeholder": "​",
            "_view_module": "@jupyter-widgets/controls",
            "_model_module_version": "1.5.0",
            "value": " 49/49 [00:00&lt;00:00, 82.30it/s]",
            "_view_count": null,
            "_view_module_version": "1.5.0",
            "description_tooltip": null,
            "_model_module": "@jupyter-widgets/controls",
            "layout": "IPY_MODEL_900ad9a2a47d4fc3b55c2a2868479a96"
          }
        },
        "5672df587c1a481398d64cddfb22b6ce": {
          "model_module": "@jupyter-widgets/controls",
          "model_name": "ProgressStyleModel",
          "state": {
            "_view_name": "StyleView",
            "_model_name": "ProgressStyleModel",
            "description_width": "initial",
            "_view_module": "@jupyter-widgets/base",
            "_model_module_version": "1.5.0",
            "_view_count": null,
            "_view_module_version": "1.2.0",
            "bar_color": null,
            "_model_module": "@jupyter-widgets/controls"
          }
        },
        "1a4508af5ace4ec7a0db2216a6c986a2": {
          "model_module": "@jupyter-widgets/base",
          "model_name": "LayoutModel",
          "state": {
            "_view_name": "LayoutView",
            "grid_template_rows": null,
            "right": null,
            "justify_content": null,
            "_view_module": "@jupyter-widgets/base",
            "overflow": null,
            "_model_module_version": "1.2.0",
            "_view_count": null,
            "flex_flow": null,
            "width": null,
            "min_width": null,
            "border": null,
            "align_items": null,
            "bottom": null,
            "_model_module": "@jupyter-widgets/base",
            "top": null,
            "grid_column": null,
            "overflow_y": null,
            "overflow_x": null,
            "grid_auto_flow": null,
            "grid_area": null,
            "grid_template_columns": null,
            "flex": null,
            "_model_name": "LayoutModel",
            "justify_items": null,
            "grid_row": null,
            "max_height": null,
            "align_content": null,
            "visibility": null,
            "align_self": null,
            "height": null,
            "min_height": null,
            "padding": null,
            "grid_auto_rows": null,
            "grid_gap": null,
            "max_width": null,
            "order": null,
            "_view_module_version": "1.2.0",
            "grid_template_areas": null,
            "object_position": null,
            "object_fit": null,
            "grid_auto_columns": null,
            "margin": null,
            "display": null,
            "left": null
          }
        },
        "4ea86e69ee6a442b8f58f04943b0294a": {
          "model_module": "@jupyter-widgets/controls",
          "model_name": "DescriptionStyleModel",
          "state": {
            "_view_name": "StyleView",
            "_model_name": "DescriptionStyleModel",
            "description_width": "",
            "_view_module": "@jupyter-widgets/base",
            "_model_module_version": "1.5.0",
            "_view_count": null,
            "_view_module_version": "1.2.0",
            "_model_module": "@jupyter-widgets/controls"
          }
        },
        "900ad9a2a47d4fc3b55c2a2868479a96": {
          "model_module": "@jupyter-widgets/base",
          "model_name": "LayoutModel",
          "state": {
            "_view_name": "LayoutView",
            "grid_template_rows": null,
            "right": null,
            "justify_content": null,
            "_view_module": "@jupyter-widgets/base",
            "overflow": null,
            "_model_module_version": "1.2.0",
            "_view_count": null,
            "flex_flow": null,
            "width": null,
            "min_width": null,
            "border": null,
            "align_items": null,
            "bottom": null,
            "_model_module": "@jupyter-widgets/base",
            "top": null,
            "grid_column": null,
            "overflow_y": null,
            "overflow_x": null,
            "grid_auto_flow": null,
            "grid_area": null,
            "grid_template_columns": null,
            "flex": null,
            "_model_name": "LayoutModel",
            "justify_items": null,
            "grid_row": null,
            "max_height": null,
            "align_content": null,
            "visibility": null,
            "align_self": null,
            "height": null,
            "min_height": null,
            "padding": null,
            "grid_auto_rows": null,
            "grid_gap": null,
            "max_width": null,
            "order": null,
            "_view_module_version": "1.2.0",
            "grid_template_areas": null,
            "object_position": null,
            "object_fit": null,
            "grid_auto_columns": null,
            "margin": null,
            "display": null,
            "left": null
          }
        }
      }
    }
  },
  "cells": [
    {
      "cell_type": "markdown",
      "metadata": {
        "id": "view-in-github",
        "colab_type": "text"
      },
      "source": [
        "<a href=\"https://colab.research.google.com/github/chosangwoong/AI-sysetem/blob/main/wine_knn.ipynb\" target=\"_parent\"><img src=\"https://colab.research.google.com/assets/colab-badge.svg\" alt=\"Open In Colab\"/></a>"
      ]
    },
    {
      "cell_type": "code",
      "metadata": {
        "colab": {
          "base_uri": "https://localhost:8080/",
          "height": 692,
          "referenced_widgets": [
            "fdb1783c2b2b484886732cebca2277bd",
            "4e70715b76ef46f4ac1fa164cb22b640",
            "172f9ef0880e4d5c9bc25b26099686c6",
            "4539e2dbba41418b884eb1b4d91f638c",
            "5672df587c1a481398d64cddfb22b6ce",
            "1a4508af5ace4ec7a0db2216a6c986a2",
            "4ea86e69ee6a442b8f58f04943b0294a",
            "900ad9a2a47d4fc3b55c2a2868479a96"
          ]
        },
        "id": "7H63KFhuSKTn",
        "outputId": "9ca1a787-acf5-4f1e-afbd-92ff251f5ce8"
      },
      "source": [
        "# 데이터 불러오기\n",
        "from sklearn.datasets import load_wine\n",
        "# 데이터 시각화를 위한 모듈\n",
        "import matplotlib.pyplot as plt\n",
        "# 데이터를 train과 test로 나눠주는 모듈\n",
        "from sklearn.model_selection import train_test_split\n",
        "# KNN알고리즘 \n",
        "from sklearn.neighbors import KNeighborsClassifier\n",
        "# 상태 진행 바 모듈\n",
        "from tqdm import tqdm_notebook\n",
        "\n",
        "wine = load_wine()\n",
        "\n",
        "# train 데이터셋과 test 데이터셋 구성\n",
        "trainX, testX, trainY, testY = \\\n",
        "    train_test_split(wine['data'], wine['target'], test_size=0.2)\n",
        "\n",
        "testAcc = []\n",
        "trainAcc = []\n",
        "\n",
        "for k in tqdm_notebook(range(1, 50)):\n",
        "    # KNN으로 train 데이터를 학습\n",
        "    knn = KNeighborsClassifier(n_neighbors=k, p=2, metric='minkowski')\n",
        "    knn.fit(trainX, trainY)\n",
        "\n",
        "    # test 데이터셋에 대한 class를 추정하고 정확도 계산\n",
        "    # accuracy = knn.score(testX, testY) 와 같음\n",
        "    predY = knn.predict(testX)\n",
        "    accuracy = (predY == testY).mean()\n",
        "    testAcc.append(accuracy)\n",
        "    #print('test 데이터셋에 대한 class분류 정확도 = %.2f' % accuracy)\n",
        "\n",
        "    # train 데이터셋에 대한 class를 추정하고 정확도 계산\n",
        "    # accuracy = knn.score(trainX, trainY) 와 같음\n",
        "    predY = knn.predict(trainX)\n",
        "    accuracy = (predY == trainY).mean()\n",
        "    trainAcc.append(accuracy)\n",
        "    #print('train 데이터셋에 대한 class분류 정확도 = %.2f' % accuracy)\n",
        "    \n",
        "# 정확도 시각화\n",
        "plt.figure(figsize=(20, 10))\n",
        "plt.plot(testAcc, label='testAcc')\n",
        "plt.plot(trainAcc, label='trainAcc')\n",
        "plt.xlabel('K')\n",
        "plt.ylabel('Accuracy')\n",
        "plt.legend()\n",
        "plt.grid()\n",
        "plt.show()"
      ],
      "execution_count": null,
      "outputs": [
        {
          "output_type": "stream",
          "text": [
            "/usr/local/lib/python3.7/dist-packages/ipykernel_launcher.py:20: TqdmDeprecationWarning: This function will be removed in tqdm==5.0.0\n",
            "Please use `tqdm.notebook.tqdm` instead of `tqdm.tqdm_notebook`\n"
          ],
          "name": "stderr"
        },
        {
          "output_type": "display_data",
          "data": {
            "application/vnd.jupyter.widget-view+json": {
              "model_id": "fdb1783c2b2b484886732cebca2277bd",
              "version_minor": 0,
              "version_major": 2
            },
            "text/plain": [
              "HBox(children=(FloatProgress(value=0.0, max=49.0), HTML(value='')))"
            ]
          },
          "metadata": {
            "tags": []
          }
        },
        {
          "output_type": "stream",
          "text": [
            "\n"
          ],
          "name": "stdout"
        },
        {
          "output_type": "display_data",
          "data": {
            "image/png": "[encoded data removed]",
            "text/plain": [
              "<Figure size 1440x720 with 1 Axes>"
            ]
          },
          "metadata": {
            "tags": [],
            "needs_background": "light"
          }
        }
      ]
    },
    {
      "cell_type": "code",
      "metadata": {
        "id": "0xQozl-XSPC-"
      },
      "source": [
        ""
      ],
      "execution_count": null,
      "outputs": []
    }
  ]
}